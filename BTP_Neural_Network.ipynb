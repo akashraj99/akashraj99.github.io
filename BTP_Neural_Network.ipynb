{
  "nbformat": 4,
  "nbformat_minor": 0,
  "metadata": {
    "colab": {
      "name": "BTP Neural Network.ipynb",
      "provenance": [],
      "collapsed_sections": [],
      "toc_visible": true,
      "include_colab_link": true
    },
    "kernelspec": {
      "name": "python3",
      "display_name": "Python 3"
    }
  },
  "cells": [
    {
      "cell_type": "markdown",
      "metadata": {
        "id": "view-in-github",
        "colab_type": "text"
      },
      "source": [
        "<a href=\"https://colab.research.google.com/github/akashraj99/akashraj99.github.io/blob/master/BTP_Neural_Network.ipynb\" target=\"_parent\"><img src=\"https://colab.research.google.com/assets/colab-badge.svg\" alt=\"Open In Colab\"/></a>"
      ]
    },
    {
      "cell_type": "code",
      "metadata": {
        "id": "WSGzuiKLZpI9"
      },
      "source": [
        "import os\n",
        "import tensorflow as tf\n",
        "from tensorflow import keras\n",
        "from tensorflow.keras import layers,losses,optimizers\n",
        "import matplotlib.pyplot as plt\n",
        "import numpy as np\n",
        "import pandas as pd\n",
        "import random"
      ],
      "execution_count": 15,
      "outputs": []
    },
    {
      "cell_type": "code",
      "metadata": {
        "id": "v_pszGD3HP5t",
        "colab": {
          "base_uri": "https://localhost:8080/"
        },
        "outputId": "3956b7fb-2bd6-404d-baee-bab30a315b13"
      },
      "source": [
        "from google.colab import drive\n",
        "drive.mount('/content/drive')"
      ],
      "execution_count": 2,
      "outputs": [
        {
          "output_type": "stream",
          "text": [
            "Drive already mounted at /content/drive; to attempt to forcibly remount, call drive.mount(\"/content/drive\", force_remount=True).\n"
          ],
          "name": "stdout"
        }
      ]
    },
    {
      "cell_type": "code",
      "metadata": {
        "id": "VqGoTXh3nAPD"
      },
      "source": [
        "arr = [\"Akash\",\"ayush\",\"sumit\"]\n",
        "dataset = []\n",
        "\n",
        "for name in arr:\n",
        "  fileName = os.getcwd() + \"/drive/My Drive/BTP/\" + name + \".npy\"\n",
        "  data = np.load(fileName, allow_pickle=\"TRUE\")\n",
        "  dataset.append(data)\n",
        "\n",
        "dataset = np.array(dataset)\n",
        "dataset = np.reshape(dataset,(1050,2))\n",
        "random.shuffle(dataset)"
      ],
      "execution_count": 3,
      "outputs": []
    },
    {
      "cell_type": "code",
      "metadata": {
        "id": "w4ZjeE02J_Qc"
      },
      "source": [
        "XTrain = []\n",
        "YTrain = []\n",
        "XTest = []\n",
        "YTest = []\n",
        "for i in range(1000):\n",
        "  XTrain.append(np.reshape(dataset[i][0],(100,100,100)))\n",
        "  YTrain.append(dataset[i][1])\n",
        "for j in range(50):\n",
        "  k = 1000 + j\n",
        "  XTest.append(np.reshape(dataset[k][0],(100,100,100)))\n",
        "  YTest.append(dataset[k][1])\n",
        "XTrain = np.asarray(XTrain, dtype=np.float32)\n",
        "YTrain = np.asarray(YTrain, dtype=np.float32)\n",
        "XTest = np.asarray(XTest, dtype=np.float32)\n",
        "YTest = np.asarray(YTest, dtype=np.float32)"
      ],
      "execution_count": 4,
      "outputs": []
    },
    {
      "cell_type": "code",
      "metadata": {
        "id": "AG_gZQNScq0L"
      },
      "source": [
        "def create3DModel(outputSize):\n",
        "  model = keras.Sequential()\n",
        "  model.add(layers.Conv3D(32, kernel_size=(3, 3, 3), activation=\"relu\", kernel_initializer=\"he_uniform\", input_shape=(100,100,100,1)))\n",
        "  model.add(layers.MaxPooling3D(pool_size=(3, 3, 3)))\n",
        "  model.add(layers.Conv3D(64, kernel_size=(3, 3, 3), activation=\"relu\", kernel_initializer=\"he_uniform\"))\n",
        "  model.add(layers.MaxPooling3D(pool_size=(3, 3, 3)))\n",
        "  model.add(layers.Conv3D(32, kernel_size=(3, 3, 3), activation=\"relu\", kernel_initializer=\"he_uniform\"))\n",
        "  model.add(layers.MaxPooling3D(pool_size=(3, 3, 3)))\n",
        "  model.add(layers.Flatten())\n",
        "  model.add(layers.Dense(60, activation=\"relu\", kernel_initializer=\"he_uniform\"))\n",
        "  model.add(layers.Dense(outputSize, activation = \"softmax\"))\n",
        "  return model"
      ],
      "execution_count": 7,
      "outputs": []
    },
    {
      "cell_type": "code",
      "metadata": {
        "id": "0zzvFvc4WrhN"
      },
      "source": [
        "def create2DModel(outputSize):\n",
        "  model = keras.Sequential()\n",
        "  model.add(layers.Conv2D(32, kernel_size=(3, 3), activation=\"relu\", kernel_initializer=\"he_uniform\", input_shape=(100,100,100)))\n",
        "  model.add(layers.MaxPooling2D(pool_size=(3, 3)))\n",
        "  model.add(layers.Conv2D(64, kernel_size=(3, 3), activation=\"relu\", kernel_initializer=\"he_uniform\"))\n",
        "  model.add(layers.MaxPooling2D(pool_size=(3, 3)))\n",
        "  model.add(layers.Conv2D(32, kernel_size=(3, 3), activation=\"relu\", kernel_initializer=\"he_uniform\"))\n",
        "  model.add(layers.MaxPooling2D(pool_size=(3, 3)))\n",
        "  model.add(layers.Flatten())\n",
        "  model.add(layers.Dense(60, activation=\"relu\", kernel_initializer=\"he_uniform\"))\n",
        "  model.add(layers.Dense(outputSize, activation = \"softmax\"))\n",
        "  return model"
      ],
      "execution_count": 9,
      "outputs": []
    },
    {
      "cell_type": "code",
      "metadata": {
        "id": "OMA7k_0ijDRB"
      },
      "source": [
        "def Train(model,xTrain,yTrain,batchSize,epochs,split):\n",
        " \thistory = model.fit(xTrain, yTrain, batch_size=batchSize, epochs=epochs, validation_split=split)\n",
        " \treturn history"
      ],
      "execution_count": 6,
      "outputs": []
    },
    {
      "cell_type": "code",
      "metadata": {
        "id": "qtonzKCW2SRJ"
      },
      "source": [
        "def Test(model,xTest,yTest):\n",
        "  score = model.evaluate(xTest,yTest)\n",
        "  return score"
      ],
      "execution_count": 7,
      "outputs": []
    },
    {
      "cell_type": "code",
      "metadata": {
        "colab": {
          "base_uri": "https://localhost:8080/"
        },
        "id": "Cgltr64jnJin",
        "outputId": "ce6f6750-ce6b-4b18-f3f0-622c375dc3a1"
      },
      "source": [
        "md = create2DModel(7)\n",
        "md.summary()"
      ],
      "execution_count": 10,
      "outputs": [
        {
          "output_type": "stream",
          "text": [
            "Model: \"sequential_1\"\n",
            "_________________________________________________________________\n",
            "Layer (type)                 Output Shape              Param #   \n",
            "=================================================================\n",
            "conv2d_1 (Conv2D)            (None, 98, 98, 32)        28832     \n",
            "_________________________________________________________________\n",
            "max_pooling2d (MaxPooling2D) (None, 32, 32, 32)        0         \n",
            "_________________________________________________________________\n",
            "conv2d_2 (Conv2D)            (None, 30, 30, 64)        18496     \n",
            "_________________________________________________________________\n",
            "max_pooling2d_1 (MaxPooling2 (None, 10, 10, 64)        0         \n",
            "_________________________________________________________________\n",
            "conv2d_3 (Conv2D)            (None, 8, 8, 32)          18464     \n",
            "_________________________________________________________________\n",
            "max_pooling2d_2 (MaxPooling2 (None, 2, 2, 32)          0         \n",
            "_________________________________________________________________\n",
            "flatten (Flatten)            (None, 128)               0         \n",
            "_________________________________________________________________\n",
            "dense (Dense)                (None, 60)                7740      \n",
            "_________________________________________________________________\n",
            "dense_1 (Dense)              (None, 7)                 427       \n",
            "=================================================================\n",
            "Total params: 73,959\n",
            "Trainable params: 73,959\n",
            "Non-trainable params: 0\n",
            "_________________________________________________________________\n"
          ],
          "name": "stdout"
        }
      ]
    },
    {
      "cell_type": "code",
      "metadata": {
        "id": "l6UkGRTR3QNo"
      },
      "source": [
        "md.compile(loss=losses.categorical_crossentropy, optimizer=optimizers.Adam(lr=0.001), metrics=['accuracy'])"
      ],
      "execution_count": 11,
      "outputs": []
    },
    {
      "cell_type": "code",
      "metadata": {
        "id": "RzvNXqSenLVU",
        "colab": {
          "base_uri": "https://localhost:8080/"
        },
        "outputId": "45478a41-bc84-4d55-b67c-2b8eb810cfb1"
      },
      "source": [
        "progress = Train(md,XTrain,YTrain,100,5,0.1)\n",
        "score = Test(md,XTest,YTest)"
      ],
      "execution_count": 12,
      "outputs": [
        {
          "output_type": "stream",
          "text": [
            "Epoch 1/5\n",
            "9/9 [==============================] - 48s 5s/step - loss: 1.6962 - accuracy: 0.3587 - val_loss: 1.4183 - val_accuracy: 0.4400\n",
            "Epoch 2/5\n",
            "9/9 [==============================] - 46s 5s/step - loss: 0.9241 - accuracy: 0.6940 - val_loss: 1.0003 - val_accuracy: 0.6100\n",
            "Epoch 3/5\n",
            "9/9 [==============================] - 46s 5s/step - loss: 0.3834 - accuracy: 0.8944 - val_loss: 0.7726 - val_accuracy: 0.7800\n",
            "Epoch 4/5\n",
            "9/9 [==============================] - 46s 5s/step - loss: 0.1989 - accuracy: 0.9560 - val_loss: 0.7118 - val_accuracy: 0.8100\n",
            "Epoch 5/5\n",
            "9/9 [==============================] - 46s 5s/step - loss: 0.1079 - accuracy: 0.9719 - val_loss: 0.6363 - val_accuracy: 0.8300\n",
            "2/2 [==============================] - 1s 238ms/step - loss: 0.7644 - accuracy: 0.7200\n"
          ],
          "name": "stdout"
        }
      ]
    },
    {
      "cell_type": "code",
      "metadata": {
        "colab": {
          "base_uri": "https://localhost:8080/"
        },
        "id": "QPzjJkYQ2qUf",
        "outputId": "60e5e1b8-d917-40a9-a174-802fc049a95f"
      },
      "source": [
        "print(f'Test loss: {score[0]} / Test accuracy: {score[1]}')"
      ],
      "execution_count": 13,
      "outputs": [
        {
          "output_type": "stream",
          "text": [
            "Test loss: 0.7643583416938782 / Test accuracy: 0.7200000286102295\n"
          ],
          "name": "stdout"
        }
      ]
    },
    {
      "cell_type": "code",
      "metadata": {
        "colab": {
          "base_uri": "https://localhost:8080/",
          "height": 295
        },
        "id": "ZeSKOECsYLe9",
        "outputId": "9bc79bb4-9ba5-463e-eadb-1ed682164c8b"
      },
      "source": [
        "plt.plot(progress.history['loss'], label='Training Set Error')\n",
        "plt.plot(progress.history['val_loss'], label='Validation Set Error')\n",
        "plt.plot(progress.history['accuracy'], label='Training Accuracy')\n",
        "plt.plot(progress.history['val_accuracy'], label='Validation Accuracy')\n",
        "plt.title('Model Progress')\n",
        "plt.ylabel('Error')\n",
        "plt.xlabel('Epoch')\n",
        "plt.legend(loc=\"upper left\")\n",
        "plt.show()"
      ],
      "execution_count": 20,
      "outputs": [
        {
          "output_type": "display_data",
          "data": {
            "image/png": "[encoded data removed]",
            "text/plain": [
              "<Figure size 432x288 with 1 Axes>"
            ]
          },
          "metadata": {
            "tags": [],
            "needs_background": "light"
          }
        }
      ]
    },
    {
      "cell_type": "code",
      "metadata": {
        "id": "xuSl0cq_YQUu"
      },
      "source": [
        ""
      ],
      "execution_count": null,
      "outputs": []
    }
  ]
}